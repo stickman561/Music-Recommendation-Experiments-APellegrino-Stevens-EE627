{
 "cells": [
  {
   "cell_type": "markdown",
   "source": [
    "<font size=\"8\">Data Acquisition, Modeling and Analysis: Big Data Analytics - Song Recommender</font>\n",
    "<font size=\"6\">Written by Alexander M. Pellegrino</font>\n",
    "<font size=\"6\">Under Dr. Rensheng Wang</font>\n",
    "<font size=\"6\">On October 21st, 2023</font>"
   ],
   "metadata": {
    "collapsed": false
   },
   "id": "1badcddb73df257d"
  },
  {
   "cell_type": "markdown",
   "source": [
    "<font size=\"6\">Part 1 - Data Parsing</font>\n",
    "<font size=\"4\">This code segment is responsible for reading the data from the files and putting it into cleanly organized DataFrames for later processing. Because I misunderstood in the initial assignment and believed I needed to handle all the different ratings at once, I have copied the code that already processes all of the data for reuse. This project will filter out only the track ratings and utilize them, but all data will be contained within the frames.</font>"
   ],
   "metadata": {
    "collapsed": false
   },
   "id": "1ccd40c866a3ba79"
  },
  {
   "cell_type": "code",
   "execution_count": 1,
   "outputs": [],
   "source": [
    "import math\n",
    "import polars as pl"
   ],
   "metadata": {
    "collapsed": false,
    "ExecuteTime": {
     "end_time": "2023-12-18T02:52:05.717026100Z",
     "start_time": "2023-12-18T02:52:05.349640600Z"
    }
   },
   "id": "6f6de9747b8ac384"
  },
  {
   "cell_type": "markdown",
   "source": [
    "<font size=\"4\">Due to the sheer number of lines, pandas ended up hitting limitations on its speed when processing the file, sometimes taking over half an hour to complete even when aggressively optimized at the cost of legibility. Though it introduces some inconvenience in library compatability, the significantly faster polars library will be utilized for as much of the data processing as possible. The dataframes will be converted to pandas frames for display purposes and for library interop when necessary. This adds overhead to displaying the frames and to sending the data to other libraries, but it speeds up the heaviest parts of the program: parsing and splitting the data.</font>"
   ],
   "metadata": {
    "collapsed": false
   },
   "id": "14e32343cbf06ddf"
  },
  {
   "cell_type": "code",
   "execution_count": 2,
   "outputs": [],
   "source": [
    "# Create number parsers that can handle the \"None\" string in the files\n",
    "def parse_integer_value(value):\n",
    "    return None if value is None or value == 'None' else int(value)\n",
    "\n",
    "def parse_float_value(value):\n",
    "    return None if value is None or value == 'None' else float(value)\n",
    "\n",
    "# Album data parser\n",
    "def load_album_data(file_path):\n",
    "    # Need to be cautious here - we're loading the entire file at once, could block program if too large\n",
    "    \n",
    "    with open(file_path, 'r') as file:\n",
    "        lines = file.readlines()\n",
    "    \n",
    "    # Finding the maximum number of genres in the dataset\n",
    "    max_genres = max(len(line.strip().split('|')[2:]) for line in lines if '|' in line.strip())\n",
    "    \n",
    "    # Fixed columns\n",
    "    album_ids = []\n",
    "    artist_ids = []\n",
    "    genre_lists = []\n",
    "    \n",
    "    # Read file line-by-line\n",
    "    for line in lines:\n",
    "        \n",
    "        # Read known columns\n",
    "        parts = line.strip().split('|')\n",
    "        album_ids.append(parse_integer_value(parts[0]))\n",
    "        artist_ids.append(parse_float_value(parts[1]))\n",
    "        \n",
    "        # Parse genre parts as floats, and pad with None if there are fewer genres than max_genres\n",
    "        genre_parts = [parse_float_value(g) for g in parts[2:]]\n",
    "        genre_parts.extend([None] * (max_genres - len(genre_parts)))\n",
    "        genre_lists.append(genre_parts)\n",
    "    \n",
    "    # Organize data to place into DataFrame\n",
    "    data = {\n",
    "        \"AlbumID\": album_ids,\n",
    "        \"ArtistID\": artist_ids\n",
    "    }\n",
    "    \n",
    "    # Variable column width (genres)\n",
    "    for i in range(max_genres):\n",
    "        data[f\"Genre_{i+1}\"] = [genre[i] for genre in genre_lists]\n",
    "    \n",
    "    # Define the schema for the DataFrame\n",
    "    album_schema = {\n",
    "        \"AlbumID\": pl.Int64,\n",
    "        \"ArtistID\": pl.Float64,\n",
    "        **{f\"Genre_{i+1}\": pl.Float64 for i in range(max_genres)}\n",
    "    }\n",
    "    \n",
    "    # Create the DataFrame with the schema\n",
    "    df = pl.DataFrame(data, schema=album_schema)\n",
    "    return df\n",
    "\n",
    "# Artist data parser\n",
    "def load_artist_data(file_path):\n",
    "    # Artist data is just a list - no splitting or variable columns needed.\n",
    "    artist_ids = []\n",
    "    \n",
    "    with open(file_path, \"r\") as file:\n",
    "        for line in file:\n",
    "            artist_ids.append(int(line.strip()))\n",
    "    \n",
    "    # Place into DataFrame for easier interop later\n",
    "    df = pl.DataFrame({\n",
    "        'ArtistID': artist_ids\n",
    "    })\n",
    "    return df\n",
    "\n",
    "# Genre data parser\n",
    "def load_genre_data(file_path):\n",
    "    # List, similar to artist data.\n",
    "    genre_ids = []\n",
    "    genre_file = open(file_path, 'r')\n",
    "    for line in genre_file:\n",
    "        genre_ids.append(int(line.strip()))\n",
    "    \n",
    "    # Once again, placed into DataFrame for easier interop\n",
    "    df = pl.DataFrame({\n",
    "        'GenreID': genre_ids\n",
    "    })\n",
    "    return df\n",
    "\n",
    "# Test data parser\n",
    "def load_test_data(file_path):\n",
    "    \n",
    "    # Again, reading entire file at once due to variable columns. Must\n",
    "    # be careful not to exceed system memory or lock CPU thread.\n",
    "    with open(file_path, 'r') as file:\n",
    "        lines = file.readlines()\n",
    "    \n",
    "    # Fixed columns\n",
    "    user_ids = []\n",
    "    track_ids = []\n",
    "    \n",
    "    # Handle the unique User|Count format of this file (also seen in training data)\n",
    "    i = 0\n",
    "    while i < len(lines):\n",
    "        user_id, n = map(int, lines[i].strip().split('|'))\n",
    "        i += 1 \n",
    "        for _ in range(int(n)):\n",
    "            track_id = int(lines[i].strip())\n",
    "            user_ids.append(user_id)\n",
    "            track_ids.append(track_id)\n",
    "            i += 1\n",
    "    \n",
    "    # DataFrame for interop\n",
    "    df = pl.DataFrame({\n",
    "        'UserID': user_ids,\n",
    "        'TrackID': track_ids\n",
    "    })\n",
    "    return df\n",
    "\n",
    "# Track data parser\n",
    "def load_track_data(file_path):\n",
    "    \n",
    "    # Memory warning; see prior functions\n",
    "    with open(file_path, 'r') as file:\n",
    "        lines = file.readlines()\n",
    "    \n",
    "    # Finding the maximum number of genres in the dataset\n",
    "    max_genres = max(len(line.strip().split('|')[3:]) for line in lines if '|' in line.strip())\n",
    "    \n",
    "    # Fixed columns\n",
    "    track_ids = []\n",
    "    album_ids = []\n",
    "    artist_ids = []\n",
    "    genre_lists = []\n",
    "    \n",
    "    for line in lines:\n",
    "        # Read known columns\n",
    "        parts = line.strip().split('|')\n",
    "        track_ids.append(parse_integer_value(parts[0]))\n",
    "        album_ids.append(parse_float_value(parts[1]))\n",
    "        artist_ids.append(parse_float_value(parts[2]))\n",
    "        \n",
    "        # Parse genre parts as floats, and pad with None if there are fewer genres than max_genres\n",
    "        genre_parts = [parse_float_value(g) for g in parts[3:]]\n",
    "        genre_parts.extend([None] * (max_genres - len(genre_parts)))\n",
    "        genre_lists.append(genre_parts)\n",
    "    \n",
    "    # Organize data to place into DataFrame\n",
    "    data = {\n",
    "        'TrackID': track_ids,\n",
    "        'AlbumID': album_ids,\n",
    "        'ArtistID': artist_ids,\n",
    "    }\n",
    "    for i in range(max_genres):\n",
    "        data[f\"Genre_{i+1}\"] = [genre[i] for genre in genre_lists]\n",
    "    \n",
    "    # Define DataFrame schema\n",
    "    track_data_schema = {\n",
    "        'TrackID': pl.Int64,\n",
    "        'AlbumID': pl.Float64,\n",
    "        'ArtistID': pl.Float64,\n",
    "        **{f'Genre_{i+1}': pl.Float64 for i in range(max_genres)}  # Fixed dictionary comprehension\n",
    "    }\n",
    "    \n",
    "    # Create final DataFrame\n",
    "    df = pl.DataFrame(data, schema=track_data_schema)\n",
    "    \n",
    "    return df\n",
    "\n",
    "# Training data parser\n",
    "def load_training_data(file_path, artist_data, genre_data, album_data):\n",
    "    \n",
    "    # Memory warning; see above.\n",
    "    with open(file_path, 'r') as file:\n",
    "        lines = file.readlines()\n",
    "    \n",
    "    # The sheer number of lookups makes this function horribly slow when\n",
    "    # searching DataFrames, even with Polars. Converting to set lookups\n",
    "    # in order to optimize type categorization for each ID.\n",
    "    artist_ids = set(artist_data['ArtistID'])\n",
    "    genre_ids = set(genre_data['GenreID'])\n",
    "    album_ids = set(album_data['AlbumID'])\n",
    "    \n",
    "    # Fixed columns\n",
    "    user_ids = []\n",
    "    item_ids = []\n",
    "    item_types = []\n",
    "    ratings = []\n",
    "    \n",
    "    # Handling the UserID|Count format\n",
    "    i = 0\n",
    "    while i < len(lines):\n",
    "        user_id, n = map(int, lines[i].strip().split('|'))\n",
    "        i += 1\n",
    "        for _ in range(int(n)):\n",
    "            parts = lines[i].strip().split('\\t')\n",
    "            item_id = int(parts[0])\n",
    "            rating = int(parts[1])\n",
    "            \n",
    "            # Determine the item type based on the presence of the ID in different sets\n",
    "            if item_id in artist_ids:\n",
    "                item_type = 'Artist'\n",
    "            elif item_id in genre_ids:\n",
    "                item_type = 'Genre'\n",
    "            elif item_id in album_ids:\n",
    "                item_type = 'Album'\n",
    "            else:\n",
    "                item_type = 'Track'\n",
    "            \n",
    "            user_ids.append(user_id)\n",
    "            item_ids.append(item_id)\n",
    "            item_types.append(item_type)\n",
    "            ratings.append(rating)\n",
    "            i += 1 \n",
    "    \n",
    "    # Final DataFrame construction\n",
    "    df = pl.DataFrame({\n",
    "        'UserID': user_ids,\n",
    "        'ItemID': item_ids,\n",
    "        'ItemType': item_types,\n",
    "        'Rating': ratings\n",
    "    })\n",
    "    return df"
   ],
   "metadata": {
    "collapsed": false,
    "ExecuteTime": {
     "end_time": "2023-12-18T02:52:05.733385700Z",
     "start_time": "2023-12-18T02:52:05.724701100Z"
    }
   },
   "id": "e58dcae7d2fc39eb"
  },
  {
   "cell_type": "markdown",
   "source": [
    "<font size=\"4\">Testing File Parsers - Outputs need to be converted to Pandas frames in order to display properly in the Jupyter notebook.</font>"
   ],
   "metadata": {
    "collapsed": false
   },
   "id": "e6ea39d53c4175fb"
  },
  {
   "cell_type": "code",
   "execution_count": 3,
   "outputs": [
    {
     "data": {
      "text/plain": "       AlbumID  ArtistID   Genre_1   Genre_2   Genre_3  Genre_4  Genre_5  \\\n0            0       NaN  214765.0       NaN       NaN      NaN      NaN   \n1            6  228091.0  158282.0   81520.0  242383.0      NaN      NaN   \n2           19   85028.0  103715.0       NaN       NaN      NaN      NaN   \n3           30   16832.0   31567.0       NaN       NaN      NaN      NaN   \n4           33   26330.0  149962.0  209270.0       NaN      NaN      NaN   \n...        ...       ...       ...       ...       ...      ...      ...   \n52824   296104  125866.0  158282.0       NaN       NaN      NaN      NaN   \n52825   296106  221637.0  116130.0    9432.0       NaN      NaN      NaN   \n52826   296107       NaN   61215.0       NaN       NaN      NaN      NaN   \n52827   296108   93277.0   61215.0       NaN       NaN      NaN      NaN   \n52828   296109   84885.0  287681.0       NaN       NaN      NaN      NaN   \n\n       Genre_6  Genre_7  Genre_8  ...  Genre_12  Genre_13  Genre_14  Genre_15  \\\n0          NaN      NaN      NaN  ...       NaN       NaN       NaN       NaN   \n1          NaN      NaN      NaN  ...       NaN       NaN       NaN       NaN   \n2          NaN      NaN      NaN  ...       NaN       NaN       NaN       NaN   \n3          NaN      NaN      NaN  ...       NaN       NaN       NaN       NaN   \n4          NaN      NaN      NaN  ...       NaN       NaN       NaN       NaN   \n...        ...      ...      ...  ...       ...       ...       ...       ...   \n52824      NaN      NaN      NaN  ...       NaN       NaN       NaN       NaN   \n52825      NaN      NaN      NaN  ...       NaN       NaN       NaN       NaN   \n52826      NaN      NaN      NaN  ...       NaN       NaN       NaN       NaN   \n52827      NaN      NaN      NaN  ...       NaN       NaN       NaN       NaN   \n52828      NaN      NaN      NaN  ...       NaN       NaN       NaN       NaN   \n\n       Genre_16  Genre_17  Genre_18  Genre_19  Genre_20  Genre_21  \n0           NaN       NaN       NaN       NaN       NaN       NaN  \n1           NaN       NaN       NaN       NaN       NaN       NaN  \n2           NaN       NaN       NaN       NaN       NaN       NaN  \n3           NaN       NaN       NaN       NaN       NaN       NaN  \n4           NaN       NaN       NaN       NaN       NaN       NaN  \n...         ...       ...       ...       ...       ...       ...  \n52824       NaN       NaN       NaN       NaN       NaN       NaN  \n52825       NaN       NaN       NaN       NaN       NaN       NaN  \n52826       NaN       NaN       NaN       NaN       NaN       NaN  \n52827       NaN       NaN       NaN       NaN       NaN       NaN  \n52828       NaN       NaN       NaN       NaN       NaN       NaN  \n\n[52829 rows x 23 columns]",
      "text/html": "<div>\n<style scoped>\n    .dataframe tbody tr th:only-of-type {\n        vertical-align: middle;\n    }\n\n    .dataframe tbody tr th {\n        vertical-align: top;\n    }\n\n    .dataframe thead th {\n        text-align: right;\n    }\n</style>\n<table border=\"1\" class=\"dataframe\">\n  <thead>\n    <tr style=\"text-align: right;\">\n      <th></th>\n      <th>AlbumID</th>\n      <th>ArtistID</th>\n      <th>Genre_1</th>\n      <th>Genre_2</th>\n      <th>Genre_3</th>\n      <th>Genre_4</th>\n      <th>Genre_5</th>\n      <th>Genre_6</th>\n      <th>Genre_7</th>\n      <th>Genre_8</th>\n      <th>...</th>\n      <th>Genre_12</th>\n      <th>Genre_13</th>\n      <th>Genre_14</th>\n      <th>Genre_15</th>\n      <th>Genre_16</th>\n      <th>Genre_17</th>\n      <th>Genre_18</th>\n      <th>Genre_19</th>\n      <th>Genre_20</th>\n      <th>Genre_21</th>\n    </tr>\n  </thead>\n  <tbody>\n    <tr>\n      <th>0</th>\n      <td>0</td>\n      <td>NaN</td>\n      <td>214765.0</td>\n      <td>NaN</td>\n      <td>NaN</td>\n      <td>NaN</td>\n      <td>NaN</td>\n      <td>NaN</td>\n      <td>NaN</td>\n      <td>NaN</td>\n      <td>...</td>\n      <td>NaN</td>\n      <td>NaN</td>\n      <td>NaN</td>\n      <td>NaN</td>\n      <td>NaN</td>\n      <td>NaN</td>\n      <td>NaN</td>\n      <td>NaN</td>\n      <td>NaN</td>\n      <td>NaN</td>\n    </tr>\n    <tr>\n      <th>1</th>\n      <td>6</td>\n      <td>228091.0</td>\n      <td>158282.0</td>\n      <td>81520.0</td>\n      <td>242383.0</td>\n      <td>NaN</td>\n      <td>NaN</td>\n      <td>NaN</td>\n      <td>NaN</td>\n      <td>NaN</td>\n      <td>...</td>\n      <td>NaN</td>\n      <td>NaN</td>\n      <td>NaN</td>\n      <td>NaN</td>\n      <td>NaN</td>\n      <td>NaN</td>\n      <td>NaN</td>\n      <td>NaN</td>\n      <td>NaN</td>\n      <td>NaN</td>\n    </tr>\n    <tr>\n      <th>2</th>\n      <td>19</td>\n      <td>85028.0</td>\n      <td>103715.0</td>\n      <td>NaN</td>\n      <td>NaN</td>\n      <td>NaN</td>\n      <td>NaN</td>\n      <td>NaN</td>\n      <td>NaN</td>\n      <td>NaN</td>\n      <td>...</td>\n      <td>NaN</td>\n      <td>NaN</td>\n      <td>NaN</td>\n      <td>NaN</td>\n      <td>NaN</td>\n      <td>NaN</td>\n      <td>NaN</td>\n      <td>NaN</td>\n      <td>NaN</td>\n      <td>NaN</td>\n    </tr>\n    <tr>\n      <th>3</th>\n      <td>30</td>\n      <td>16832.0</td>\n      <td>31567.0</td>\n      <td>NaN</td>\n      <td>NaN</td>\n      <td>NaN</td>\n      <td>NaN</td>\n      <td>NaN</td>\n      <td>NaN</td>\n      <td>NaN</td>\n      <td>...</td>\n      <td>NaN</td>\n      <td>NaN</td>\n      <td>NaN</td>\n      <td>NaN</td>\n      <td>NaN</td>\n      <td>NaN</td>\n      <td>NaN</td>\n      <td>NaN</td>\n      <td>NaN</td>\n      <td>NaN</td>\n    </tr>\n    <tr>\n      <th>4</th>\n      <td>33</td>\n      <td>26330.0</td>\n      <td>149962.0</td>\n      <td>209270.0</td>\n      <td>NaN</td>\n      <td>NaN</td>\n      <td>NaN</td>\n      <td>NaN</td>\n      <td>NaN</td>\n      <td>NaN</td>\n      <td>...</td>\n      <td>NaN</td>\n      <td>NaN</td>\n      <td>NaN</td>\n      <td>NaN</td>\n      <td>NaN</td>\n      <td>NaN</td>\n      <td>NaN</td>\n      <td>NaN</td>\n      <td>NaN</td>\n      <td>NaN</td>\n    </tr>\n    <tr>\n      <th>...</th>\n      <td>...</td>\n      <td>...</td>\n      <td>...</td>\n      <td>...</td>\n      <td>...</td>\n      <td>...</td>\n      <td>...</td>\n      <td>...</td>\n      <td>...</td>\n      <td>...</td>\n      <td>...</td>\n      <td>...</td>\n      <td>...</td>\n      <td>...</td>\n      <td>...</td>\n      <td>...</td>\n      <td>...</td>\n      <td>...</td>\n      <td>...</td>\n      <td>...</td>\n      <td>...</td>\n    </tr>\n    <tr>\n      <th>52824</th>\n      <td>296104</td>\n      <td>125866.0</td>\n      <td>158282.0</td>\n      <td>NaN</td>\n      <td>NaN</td>\n      <td>NaN</td>\n      <td>NaN</td>\n      <td>NaN</td>\n      <td>NaN</td>\n      <td>NaN</td>\n      <td>...</td>\n      <td>NaN</td>\n      <td>NaN</td>\n      <td>NaN</td>\n      <td>NaN</td>\n      <td>NaN</td>\n      <td>NaN</td>\n      <td>NaN</td>\n      <td>NaN</td>\n      <td>NaN</td>\n      <td>NaN</td>\n    </tr>\n    <tr>\n      <th>52825</th>\n      <td>296106</td>\n      <td>221637.0</td>\n      <td>116130.0</td>\n      <td>9432.0</td>\n      <td>NaN</td>\n      <td>NaN</td>\n      <td>NaN</td>\n      <td>NaN</td>\n      <td>NaN</td>\n      <td>NaN</td>\n      <td>...</td>\n      <td>NaN</td>\n      <td>NaN</td>\n      <td>NaN</td>\n      <td>NaN</td>\n      <td>NaN</td>\n      <td>NaN</td>\n      <td>NaN</td>\n      <td>NaN</td>\n      <td>NaN</td>\n      <td>NaN</td>\n    </tr>\n    <tr>\n      <th>52826</th>\n      <td>296107</td>\n      <td>NaN</td>\n      <td>61215.0</td>\n      <td>NaN</td>\n      <td>NaN</td>\n      <td>NaN</td>\n      <td>NaN</td>\n      <td>NaN</td>\n      <td>NaN</td>\n      <td>NaN</td>\n      <td>...</td>\n      <td>NaN</td>\n      <td>NaN</td>\n      <td>NaN</td>\n      <td>NaN</td>\n      <td>NaN</td>\n      <td>NaN</td>\n      <td>NaN</td>\n      <td>NaN</td>\n      <td>NaN</td>\n      <td>NaN</td>\n    </tr>\n    <tr>\n      <th>52827</th>\n      <td>296108</td>\n      <td>93277.0</td>\n      <td>61215.0</td>\n      <td>NaN</td>\n      <td>NaN</td>\n      <td>NaN</td>\n      <td>NaN</td>\n      <td>NaN</td>\n      <td>NaN</td>\n      <td>NaN</td>\n      <td>...</td>\n      <td>NaN</td>\n      <td>NaN</td>\n      <td>NaN</td>\n      <td>NaN</td>\n      <td>NaN</td>\n      <td>NaN</td>\n      <td>NaN</td>\n      <td>NaN</td>\n      <td>NaN</td>\n      <td>NaN</td>\n    </tr>\n    <tr>\n      <th>52828</th>\n      <td>296109</td>\n      <td>84885.0</td>\n      <td>287681.0</td>\n      <td>NaN</td>\n      <td>NaN</td>\n      <td>NaN</td>\n      <td>NaN</td>\n      <td>NaN</td>\n      <td>NaN</td>\n      <td>NaN</td>\n      <td>...</td>\n      <td>NaN</td>\n      <td>NaN</td>\n      <td>NaN</td>\n      <td>NaN</td>\n      <td>NaN</td>\n      <td>NaN</td>\n      <td>NaN</td>\n      <td>NaN</td>\n      <td>NaN</td>\n      <td>NaN</td>\n    </tr>\n  </tbody>\n</table>\n<p>52829 rows × 23 columns</p>\n</div>"
     },
     "execution_count": 3,
     "metadata": {},
     "output_type": "execute_result"
    }
   ],
   "source": [
    "album_data = load_album_data(\"albumData2.txt\")\n",
    "album_data.to_pandas()"
   ],
   "metadata": {
    "collapsed": false,
    "ExecuteTime": {
     "end_time": "2023-12-18T02:52:05.907491700Z",
     "start_time": "2023-12-18T02:52:05.730833300Z"
    }
   },
   "id": "91f41a1e6061e95c"
  },
  {
   "cell_type": "code",
   "execution_count": 4,
   "outputs": [
    {
     "data": {
      "text/plain": "       ArtistID\n0            16\n1            23\n2            35\n3            40\n4            49\n...         ...\n18669    295987\n18670    296007\n18671    296012\n18672    296013\n18673    296041\n\n[18674 rows x 1 columns]",
      "text/html": "<div>\n<style scoped>\n    .dataframe tbody tr th:only-of-type {\n        vertical-align: middle;\n    }\n\n    .dataframe tbody tr th {\n        vertical-align: top;\n    }\n\n    .dataframe thead th {\n        text-align: right;\n    }\n</style>\n<table border=\"1\" class=\"dataframe\">\n  <thead>\n    <tr style=\"text-align: right;\">\n      <th></th>\n      <th>ArtistID</th>\n    </tr>\n  </thead>\n  <tbody>\n    <tr>\n      <th>0</th>\n      <td>16</td>\n    </tr>\n    <tr>\n      <th>1</th>\n      <td>23</td>\n    </tr>\n    <tr>\n      <th>2</th>\n      <td>35</td>\n    </tr>\n    <tr>\n      <th>3</th>\n      <td>40</td>\n    </tr>\n    <tr>\n      <th>4</th>\n      <td>49</td>\n    </tr>\n    <tr>\n      <th>...</th>\n      <td>...</td>\n    </tr>\n    <tr>\n      <th>18669</th>\n      <td>295987</td>\n    </tr>\n    <tr>\n      <th>18670</th>\n      <td>296007</td>\n    </tr>\n    <tr>\n      <th>18671</th>\n      <td>296012</td>\n    </tr>\n    <tr>\n      <th>18672</th>\n      <td>296013</td>\n    </tr>\n    <tr>\n      <th>18673</th>\n      <td>296041</td>\n    </tr>\n  </tbody>\n</table>\n<p>18674 rows × 1 columns</p>\n</div>"
     },
     "execution_count": 4,
     "metadata": {},
     "output_type": "execute_result"
    }
   ],
   "source": [
    "artist_data = load_artist_data(\"artistData2.txt\")\n",
    "artist_data.to_pandas()"
   ],
   "metadata": {
    "collapsed": false,
    "ExecuteTime": {
     "end_time": "2023-12-18T02:52:05.923980200Z",
     "start_time": "2023-12-18T02:52:05.900902500Z"
    }
   },
   "id": "187c1512eda322b"
  },
  {
   "cell_type": "code",
   "execution_count": 5,
   "outputs": [
    {
     "data": {
      "text/plain": "     GenreID\n0        208\n1        315\n2        642\n3       1075\n4       1271\n..       ...\n562   292093\n563   293670\n564   293688\n565   294138\n566   294310\n\n[567 rows x 1 columns]",
      "text/html": "<div>\n<style scoped>\n    .dataframe tbody tr th:only-of-type {\n        vertical-align: middle;\n    }\n\n    .dataframe tbody tr th {\n        vertical-align: top;\n    }\n\n    .dataframe thead th {\n        text-align: right;\n    }\n</style>\n<table border=\"1\" class=\"dataframe\">\n  <thead>\n    <tr style=\"text-align: right;\">\n      <th></th>\n      <th>GenreID</th>\n    </tr>\n  </thead>\n  <tbody>\n    <tr>\n      <th>0</th>\n      <td>208</td>\n    </tr>\n    <tr>\n      <th>1</th>\n      <td>315</td>\n    </tr>\n    <tr>\n      <th>2</th>\n      <td>642</td>\n    </tr>\n    <tr>\n      <th>3</th>\n      <td>1075</td>\n    </tr>\n    <tr>\n      <th>4</th>\n      <td>1271</td>\n    </tr>\n    <tr>\n      <th>...</th>\n      <td>...</td>\n    </tr>\n    <tr>\n      <th>562</th>\n      <td>292093</td>\n    </tr>\n    <tr>\n      <th>563</th>\n      <td>293670</td>\n    </tr>\n    <tr>\n      <th>564</th>\n      <td>293688</td>\n    </tr>\n    <tr>\n      <th>565</th>\n      <td>294138</td>\n    </tr>\n    <tr>\n      <th>566</th>\n      <td>294310</td>\n    </tr>\n  </tbody>\n</table>\n<p>567 rows × 1 columns</p>\n</div>"
     },
     "execution_count": 5,
     "metadata": {},
     "output_type": "execute_result"
    }
   ],
   "source": [
    "genre_data = load_genre_data(\"genreData2.txt\")\n",
    "genre_data.to_pandas()"
   ],
   "metadata": {
    "collapsed": false,
    "ExecuteTime": {
     "end_time": "2023-12-18T02:52:05.994037200Z",
     "start_time": "2023-12-18T02:52:05.919367900Z"
    }
   },
   "id": "71a64c5dc7db68c"
  },
  {
   "cell_type": "code",
   "execution_count": 6,
   "outputs": [
    {
     "data": {
      "text/plain": "        UserID  TrackID\n0       199810   208019\n1       199810    74139\n2       199810     9903\n3       199810   242681\n4       199810    18515\n...        ...      ...\n119995  249010    72192\n119996  249010    86104\n119997  249010   186634\n119998  249010   293818\n119999  249010   262811\n\n[120000 rows x 2 columns]",
      "text/html": "<div>\n<style scoped>\n    .dataframe tbody tr th:only-of-type {\n        vertical-align: middle;\n    }\n\n    .dataframe tbody tr th {\n        vertical-align: top;\n    }\n\n    .dataframe thead th {\n        text-align: right;\n    }\n</style>\n<table border=\"1\" class=\"dataframe\">\n  <thead>\n    <tr style=\"text-align: right;\">\n      <th></th>\n      <th>UserID</th>\n      <th>TrackID</th>\n    </tr>\n  </thead>\n  <tbody>\n    <tr>\n      <th>0</th>\n      <td>199810</td>\n      <td>208019</td>\n    </tr>\n    <tr>\n      <th>1</th>\n      <td>199810</td>\n      <td>74139</td>\n    </tr>\n    <tr>\n      <th>2</th>\n      <td>199810</td>\n      <td>9903</td>\n    </tr>\n    <tr>\n      <th>3</th>\n      <td>199810</td>\n      <td>242681</td>\n    </tr>\n    <tr>\n      <th>4</th>\n      <td>199810</td>\n      <td>18515</td>\n    </tr>\n    <tr>\n      <th>...</th>\n      <td>...</td>\n      <td>...</td>\n    </tr>\n    <tr>\n      <th>119995</th>\n      <td>249010</td>\n      <td>72192</td>\n    </tr>\n    <tr>\n      <th>119996</th>\n      <td>249010</td>\n      <td>86104</td>\n    </tr>\n    <tr>\n      <th>119997</th>\n      <td>249010</td>\n      <td>186634</td>\n    </tr>\n    <tr>\n      <th>119998</th>\n      <td>249010</td>\n      <td>293818</td>\n    </tr>\n    <tr>\n      <th>119999</th>\n      <td>249010</td>\n      <td>262811</td>\n    </tr>\n  </tbody>\n</table>\n<p>120000 rows × 2 columns</p>\n</div>"
     },
     "execution_count": 6,
     "metadata": {},
     "output_type": "execute_result"
    }
   ],
   "source": [
    "test_data = load_test_data(\"testItem2.txt\")\n",
    "test_data.to_pandas()"
   ],
   "metadata": {
    "collapsed": false,
    "ExecuteTime": {
     "end_time": "2023-12-18T02:52:06.068432700Z",
     "start_time": "2023-12-18T02:52:05.933771Z"
    }
   },
   "id": "7247aba2d68ee942"
  },
  {
   "cell_type": "code",
   "execution_count": 7,
   "outputs": [
    {
     "data": {
      "text/plain": "        TrackID   AlbumID  ArtistID   Genre_1   Genre_2   Genre_3  Genre_4  \\\n0             1  106710.0  281667.0  214765.0  162234.0  155788.0      NaN   \n1             2  280977.0  233685.0  131552.0  173467.0   48505.0      NaN   \n2             3   38422.0  219136.0   61215.0  201738.0   88853.0      NaN   \n3             4  119529.0  166863.0   17453.0   35389.0       NaN      NaN   \n4             5   16742.0  294690.0   61215.0   34486.0  274088.0      NaN   \n...         ...       ...       ...       ...       ...       ...      ...   \n224036   296100  166516.0   33011.0  274088.0  199606.0   88853.0      NaN   \n224037   296101       NaN       NaN       NaN       NaN       NaN      NaN   \n224038   296102  153644.0  289056.0  158282.0  139095.0  242383.0      NaN   \n224039   296105   68336.0    6613.0   82064.0       NaN       NaN      NaN   \n224040   296110  281202.0  140302.0   61215.0       NaN       NaN      NaN   \n\n        Genre_5  Genre_6  Genre_7  ...  Genre_12  Genre_13  Genre_14  \\\n0           NaN      NaN      NaN  ...       NaN       NaN       NaN   \n1           NaN      NaN      NaN  ...       NaN       NaN       NaN   \n2           NaN      NaN      NaN  ...       NaN       NaN       NaN   \n3           NaN      NaN      NaN  ...       NaN       NaN       NaN   \n4           NaN      NaN      NaN  ...       NaN       NaN       NaN   \n...         ...      ...      ...  ...       ...       ...       ...   \n224036      NaN      NaN      NaN  ...       NaN       NaN       NaN   \n224037      NaN      NaN      NaN  ...       NaN       NaN       NaN   \n224038      NaN      NaN      NaN  ...       NaN       NaN       NaN   \n224039      NaN      NaN      NaN  ...       NaN       NaN       NaN   \n224040      NaN      NaN      NaN  ...       NaN       NaN       NaN   \n\n        Genre_15  Genre_16  Genre_17  Genre_18  Genre_19  Genre_20  Genre_21  \n0            NaN       NaN       NaN       NaN       NaN       NaN       NaN  \n1            NaN       NaN       NaN       NaN       NaN       NaN       NaN  \n2            NaN       NaN       NaN       NaN       NaN       NaN       NaN  \n3            NaN       NaN       NaN       NaN       NaN       NaN       NaN  \n4            NaN       NaN       NaN       NaN       NaN       NaN       NaN  \n...          ...       ...       ...       ...       ...       ...       ...  \n224036       NaN       NaN       NaN       NaN       NaN       NaN       NaN  \n224037       NaN       NaN       NaN       NaN       NaN       NaN       NaN  \n224038       NaN       NaN       NaN       NaN       NaN       NaN       NaN  \n224039       NaN       NaN       NaN       NaN       NaN       NaN       NaN  \n224040       NaN       NaN       NaN       NaN       NaN       NaN       NaN  \n\n[224041 rows x 24 columns]",
      "text/html": "<div>\n<style scoped>\n    .dataframe tbody tr th:only-of-type {\n        vertical-align: middle;\n    }\n\n    .dataframe tbody tr th {\n        vertical-align: top;\n    }\n\n    .dataframe thead th {\n        text-align: right;\n    }\n</style>\n<table border=\"1\" class=\"dataframe\">\n  <thead>\n    <tr style=\"text-align: right;\">\n      <th></th>\n      <th>TrackID</th>\n      <th>AlbumID</th>\n      <th>ArtistID</th>\n      <th>Genre_1</th>\n      <th>Genre_2</th>\n      <th>Genre_3</th>\n      <th>Genre_4</th>\n      <th>Genre_5</th>\n      <th>Genre_6</th>\n      <th>Genre_7</th>\n      <th>...</th>\n      <th>Genre_12</th>\n      <th>Genre_13</th>\n      <th>Genre_14</th>\n      <th>Genre_15</th>\n      <th>Genre_16</th>\n      <th>Genre_17</th>\n      <th>Genre_18</th>\n      <th>Genre_19</th>\n      <th>Genre_20</th>\n      <th>Genre_21</th>\n    </tr>\n  </thead>\n  <tbody>\n    <tr>\n      <th>0</th>\n      <td>1</td>\n      <td>106710.0</td>\n      <td>281667.0</td>\n      <td>214765.0</td>\n      <td>162234.0</td>\n      <td>155788.0</td>\n      <td>NaN</td>\n      <td>NaN</td>\n      <td>NaN</td>\n      <td>NaN</td>\n      <td>...</td>\n      <td>NaN</td>\n      <td>NaN</td>\n      <td>NaN</td>\n      <td>NaN</td>\n      <td>NaN</td>\n      <td>NaN</td>\n      <td>NaN</td>\n      <td>NaN</td>\n      <td>NaN</td>\n      <td>NaN</td>\n    </tr>\n    <tr>\n      <th>1</th>\n      <td>2</td>\n      <td>280977.0</td>\n      <td>233685.0</td>\n      <td>131552.0</td>\n      <td>173467.0</td>\n      <td>48505.0</td>\n      <td>NaN</td>\n      <td>NaN</td>\n      <td>NaN</td>\n      <td>NaN</td>\n      <td>...</td>\n      <td>NaN</td>\n      <td>NaN</td>\n      <td>NaN</td>\n      <td>NaN</td>\n      <td>NaN</td>\n      <td>NaN</td>\n      <td>NaN</td>\n      <td>NaN</td>\n      <td>NaN</td>\n      <td>NaN</td>\n    </tr>\n    <tr>\n      <th>2</th>\n      <td>3</td>\n      <td>38422.0</td>\n      <td>219136.0</td>\n      <td>61215.0</td>\n      <td>201738.0</td>\n      <td>88853.0</td>\n      <td>NaN</td>\n      <td>NaN</td>\n      <td>NaN</td>\n      <td>NaN</td>\n      <td>...</td>\n      <td>NaN</td>\n      <td>NaN</td>\n      <td>NaN</td>\n      <td>NaN</td>\n      <td>NaN</td>\n      <td>NaN</td>\n      <td>NaN</td>\n      <td>NaN</td>\n      <td>NaN</td>\n      <td>NaN</td>\n    </tr>\n    <tr>\n      <th>3</th>\n      <td>4</td>\n      <td>119529.0</td>\n      <td>166863.0</td>\n      <td>17453.0</td>\n      <td>35389.0</td>\n      <td>NaN</td>\n      <td>NaN</td>\n      <td>NaN</td>\n      <td>NaN</td>\n      <td>NaN</td>\n      <td>...</td>\n      <td>NaN</td>\n      <td>NaN</td>\n      <td>NaN</td>\n      <td>NaN</td>\n      <td>NaN</td>\n      <td>NaN</td>\n      <td>NaN</td>\n      <td>NaN</td>\n      <td>NaN</td>\n      <td>NaN</td>\n    </tr>\n    <tr>\n      <th>4</th>\n      <td>5</td>\n      <td>16742.0</td>\n      <td>294690.0</td>\n      <td>61215.0</td>\n      <td>34486.0</td>\n      <td>274088.0</td>\n      <td>NaN</td>\n      <td>NaN</td>\n      <td>NaN</td>\n      <td>NaN</td>\n      <td>...</td>\n      <td>NaN</td>\n      <td>NaN</td>\n      <td>NaN</td>\n      <td>NaN</td>\n      <td>NaN</td>\n      <td>NaN</td>\n      <td>NaN</td>\n      <td>NaN</td>\n      <td>NaN</td>\n      <td>NaN</td>\n    </tr>\n    <tr>\n      <th>...</th>\n      <td>...</td>\n      <td>...</td>\n      <td>...</td>\n      <td>...</td>\n      <td>...</td>\n      <td>...</td>\n      <td>...</td>\n      <td>...</td>\n      <td>...</td>\n      <td>...</td>\n      <td>...</td>\n      <td>...</td>\n      <td>...</td>\n      <td>...</td>\n      <td>...</td>\n      <td>...</td>\n      <td>...</td>\n      <td>...</td>\n      <td>...</td>\n      <td>...</td>\n      <td>...</td>\n    </tr>\n    <tr>\n      <th>224036</th>\n      <td>296100</td>\n      <td>166516.0</td>\n      <td>33011.0</td>\n      <td>274088.0</td>\n      <td>199606.0</td>\n      <td>88853.0</td>\n      <td>NaN</td>\n      <td>NaN</td>\n      <td>NaN</td>\n      <td>NaN</td>\n      <td>...</td>\n      <td>NaN</td>\n      <td>NaN</td>\n      <td>NaN</td>\n      <td>NaN</td>\n      <td>NaN</td>\n      <td>NaN</td>\n      <td>NaN</td>\n      <td>NaN</td>\n      <td>NaN</td>\n      <td>NaN</td>\n    </tr>\n    <tr>\n      <th>224037</th>\n      <td>296101</td>\n      <td>NaN</td>\n      <td>NaN</td>\n      <td>NaN</td>\n      <td>NaN</td>\n      <td>NaN</td>\n      <td>NaN</td>\n      <td>NaN</td>\n      <td>NaN</td>\n      <td>NaN</td>\n      <td>...</td>\n      <td>NaN</td>\n      <td>NaN</td>\n      <td>NaN</td>\n      <td>NaN</td>\n      <td>NaN</td>\n      <td>NaN</td>\n      <td>NaN</td>\n      <td>NaN</td>\n      <td>NaN</td>\n      <td>NaN</td>\n    </tr>\n    <tr>\n      <th>224038</th>\n      <td>296102</td>\n      <td>153644.0</td>\n      <td>289056.0</td>\n      <td>158282.0</td>\n      <td>139095.0</td>\n      <td>242383.0</td>\n      <td>NaN</td>\n      <td>NaN</td>\n      <td>NaN</td>\n      <td>NaN</td>\n      <td>...</td>\n      <td>NaN</td>\n      <td>NaN</td>\n      <td>NaN</td>\n      <td>NaN</td>\n      <td>NaN</td>\n      <td>NaN</td>\n      <td>NaN</td>\n      <td>NaN</td>\n      <td>NaN</td>\n      <td>NaN</td>\n    </tr>\n    <tr>\n      <th>224039</th>\n      <td>296105</td>\n      <td>68336.0</td>\n      <td>6613.0</td>\n      <td>82064.0</td>\n      <td>NaN</td>\n      <td>NaN</td>\n      <td>NaN</td>\n      <td>NaN</td>\n      <td>NaN</td>\n      <td>NaN</td>\n      <td>...</td>\n      <td>NaN</td>\n      <td>NaN</td>\n      <td>NaN</td>\n      <td>NaN</td>\n      <td>NaN</td>\n      <td>NaN</td>\n      <td>NaN</td>\n      <td>NaN</td>\n      <td>NaN</td>\n      <td>NaN</td>\n    </tr>\n    <tr>\n      <th>224040</th>\n      <td>296110</td>\n      <td>281202.0</td>\n      <td>140302.0</td>\n      <td>61215.0</td>\n      <td>NaN</td>\n      <td>NaN</td>\n      <td>NaN</td>\n      <td>NaN</td>\n      <td>NaN</td>\n      <td>NaN</td>\n      <td>...</td>\n      <td>NaN</td>\n      <td>NaN</td>\n      <td>NaN</td>\n      <td>NaN</td>\n      <td>NaN</td>\n      <td>NaN</td>\n      <td>NaN</td>\n      <td>NaN</td>\n      <td>NaN</td>\n      <td>NaN</td>\n    </tr>\n  </tbody>\n</table>\n<p>224041 rows × 24 columns</p>\n</div>"
     },
     "execution_count": 7,
     "metadata": {},
     "output_type": "execute_result"
    }
   ],
   "source": [
    "track_data = load_track_data(\"trackData2.txt\")\n",
    "track_data.to_pandas()"
   ],
   "metadata": {
    "collapsed": false,
    "ExecuteTime": {
     "end_time": "2023-12-18T02:52:06.817916400Z",
     "start_time": "2023-12-18T02:52:05.984612200Z"
    }
   },
   "id": "4773842b7709e59f"
  },
  {
   "cell_type": "code",
   "execution_count": 8,
   "outputs": [
    {
     "data": {
      "text/plain": "          UserID  ItemID ItemType  Rating\n0         199808  248969   Artist      90\n1         199808    2663   Artist      90\n2         199808   28341   Artist      90\n3         199808   42563   Artist      90\n4         199808   59092   Artist      90\n...          ...     ...      ...     ...\n12403570  249011  270557   Artist      90\n12403571  249011  273574   Artist      90\n12403572  249011  286938   Artist      90\n12403573  249011  287681    Genre      80\n12403574  249011  295381   Artist      90\n\n[12403575 rows x 4 columns]",
      "text/html": "<div>\n<style scoped>\n    .dataframe tbody tr th:only-of-type {\n        vertical-align: middle;\n    }\n\n    .dataframe tbody tr th {\n        vertical-align: top;\n    }\n\n    .dataframe thead th {\n        text-align: right;\n    }\n</style>\n<table border=\"1\" class=\"dataframe\">\n  <thead>\n    <tr style=\"text-align: right;\">\n      <th></th>\n      <th>UserID</th>\n      <th>ItemID</th>\n      <th>ItemType</th>\n      <th>Rating</th>\n    </tr>\n  </thead>\n  <tbody>\n    <tr>\n      <th>0</th>\n      <td>199808</td>\n      <td>248969</td>\n      <td>Artist</td>\n      <td>90</td>\n    </tr>\n    <tr>\n      <th>1</th>\n      <td>199808</td>\n      <td>2663</td>\n      <td>Artist</td>\n      <td>90</td>\n    </tr>\n    <tr>\n      <th>2</th>\n      <td>199808</td>\n      <td>28341</td>\n      <td>Artist</td>\n      <td>90</td>\n    </tr>\n    <tr>\n      <th>3</th>\n      <td>199808</td>\n      <td>42563</td>\n      <td>Artist</td>\n      <td>90</td>\n    </tr>\n    <tr>\n      <th>4</th>\n      <td>199808</td>\n      <td>59092</td>\n      <td>Artist</td>\n      <td>90</td>\n    </tr>\n    <tr>\n      <th>...</th>\n      <td>...</td>\n      <td>...</td>\n      <td>...</td>\n      <td>...</td>\n    </tr>\n    <tr>\n      <th>12403570</th>\n      <td>249011</td>\n      <td>270557</td>\n      <td>Artist</td>\n      <td>90</td>\n    </tr>\n    <tr>\n      <th>12403571</th>\n      <td>249011</td>\n      <td>273574</td>\n      <td>Artist</td>\n      <td>90</td>\n    </tr>\n    <tr>\n      <th>12403572</th>\n      <td>249011</td>\n      <td>286938</td>\n      <td>Artist</td>\n      <td>90</td>\n    </tr>\n    <tr>\n      <th>12403573</th>\n      <td>249011</td>\n      <td>287681</td>\n      <td>Genre</td>\n      <td>80</td>\n    </tr>\n    <tr>\n      <th>12403574</th>\n      <td>249011</td>\n      <td>295381</td>\n      <td>Artist</td>\n      <td>90</td>\n    </tr>\n  </tbody>\n</table>\n<p>12403575 rows × 4 columns</p>\n</div>"
     },
     "execution_count": 8,
     "metadata": {},
     "output_type": "execute_result"
    }
   ],
   "source": [
    "training_data = load_training_data(\"trainItem2.txt\", artist_data, genre_data, album_data)\n",
    "training_data.to_pandas()"
   ],
   "metadata": {
    "collapsed": false,
    "ExecuteTime": {
     "end_time": "2023-12-18T02:52:14.274396800Z",
     "start_time": "2023-12-18T02:52:06.818999200Z"
    }
   },
   "id": "2ff072c40800b64e"
  },
  {
   "cell_type": "markdown",
   "source": [],
   "metadata": {
    "collapsed": false
   },
   "id": "25fc4a813bc66d12"
  },
  {
   "cell_type": "code",
   "execution_count": 9,
   "outputs": [
    {
     "data": {
      "text/plain": "[199810,\n 199812,\n 199813,\n 199814,\n 199815,\n 199816,\n 199817,\n 199818,\n 199819,\n 199820,\n 199821,\n 199822,\n 199823,\n 199824,\n 199826,\n 199827,\n 199830,\n 199838,\n 199839,\n 199844,\n 199845,\n 199846,\n 199847,\n 199853,\n 199854,\n 199855,\n 199858,\n 199859,\n 199861,\n 199862,\n 199863,\n 199866,\n 199868,\n 199873,\n 199876,\n 199880,\n 199882,\n 199884,\n 199886,\n 199890,\n 199891,\n 199894,\n 199895,\n 199896,\n 199899,\n 199900,\n 199902,\n 199907,\n 199911,\n 199912,\n 199914,\n 199915,\n 199918,\n 199920,\n 199921,\n 199924,\n 199926,\n 199928,\n 199931,\n 199932,\n 199934,\n 199936,\n 199937,\n 199939,\n 199941,\n 199944,\n 199947,\n 199949,\n 199954,\n 199955,\n 199958,\n 199961,\n 199962,\n 199963,\n 199966,\n 199973,\n 199974,\n 199976,\n 199977,\n 199981,\n 199982,\n 199983,\n 199984,\n 199989,\n 199991,\n 199996,\n 199997,\n 200000,\n 200008,\n 200011,\n 200015,\n 200017,\n 200020,\n 200022,\n 200024,\n 200031,\n 200032,\n 200033,\n 200034,\n 200039,\n 200042,\n 200044,\n 200045,\n 200046,\n 200049,\n 200053,\n 200054,\n 200055,\n 200061,\n 200062,\n 200063,\n 200065,\n 200066,\n 200067,\n 200069,\n 200070,\n 200071,\n 200072,\n 200073,\n 200074,\n 200077,\n 200081,\n 200083,\n 200084,\n 200085,\n 200096,\n 200098,\n 200099,\n 200100,\n 200101,\n 200104,\n 200105,\n 200106,\n 200112,\n 200116,\n 200117,\n 200118,\n 200124,\n 200126,\n 200127,\n 200128,\n 200138,\n 200140,\n 200141,\n 200143,\n 200145,\n 200148,\n 200151,\n 200152,\n 200154,\n 200155,\n 200156,\n 200158,\n 200159,\n 200160,\n 200162,\n 200163,\n 200165,\n 200166,\n 200168,\n 200173,\n 200174,\n 200176,\n 200179,\n 200182,\n 200186,\n 200191,\n 200193,\n 200195,\n 200198,\n 200203,\n 200205,\n 200207,\n 200209,\n 200212,\n 200213,\n 200216,\n 200217,\n 200223,\n 200224,\n 200229,\n 200232,\n 200234,\n 200236,\n 200237,\n 200240,\n 200241,\n 200242,\n 200243,\n 200250,\n 200251,\n 200256,\n 200257,\n 200258,\n 200263,\n 200266,\n 200269,\n 200270,\n 200273,\n 200278,\n 200279,\n 200280,\n 200283,\n 200288,\n 200293,\n 200296,\n 200298,\n 200302,\n 200303,\n 200306,\n 200308,\n 200309,\n 200310,\n 200311,\n 200312,\n 200313,\n 200314,\n 200319,\n 200322,\n 200327,\n 200333,\n 200335,\n 200336,\n 200338,\n 200342,\n 200343,\n 200344,\n 200348,\n 200349,\n 200356,\n 200359,\n 200360,\n 200361,\n 200364,\n 200367,\n 200368,\n 200369,\n 200370,\n 200371,\n 200374,\n 200383,\n 200384,\n 200385,\n 200387,\n 200389,\n 200391,\n 200393,\n 200394,\n 200398,\n 200400,\n 200401,\n 200406,\n 200407,\n 200413,\n 200414,\n 200416,\n 200419,\n 200420,\n 200427,\n 200429,\n 200430,\n 200431,\n 200434,\n 200437,\n 200440,\n 200442,\n 200446,\n 200447,\n 200449,\n 200450,\n 200451,\n 200452,\n 200455,\n 200457,\n 200459,\n 200461,\n 200463,\n 200465,\n 200468,\n 200475,\n 200476,\n 200481,\n 200482,\n 200484,\n 200486,\n 200490,\n 200494,\n 200495,\n 200497,\n 200499,\n 200500,\n 200504,\n 200506,\n 200510,\n 200511,\n 200515,\n 200522,\n 200524,\n 200527,\n 200530,\n 200537,\n 200540,\n 200541,\n 200542,\n 200544,\n 200549,\n 200551,\n 200552,\n 200555,\n 200556,\n 200558,\n 200560,\n 200561,\n 200563,\n 200564,\n 200565,\n 200567,\n 200568,\n 200569,\n 200571,\n 200572,\n 200574,\n 200582,\n 200584,\n 200590,\n 200592,\n 200594,\n 200596,\n 200598,\n 200599,\n 200604,\n 200607,\n 200610,\n 200611,\n 200612,\n 200613,\n 200617,\n 200619,\n 200620,\n 200624,\n 200625,\n 200626,\n 200628,\n 200633,\n 200634,\n 200637,\n 200641,\n 200644,\n 200646,\n 200650,\n 200651,\n 200652,\n 200654,\n 200658,\n 200659,\n 200660,\n 200662,\n 200664,\n 200665,\n 200666,\n 200667,\n 200668,\n 200669,\n 200672,\n 200674,\n 200679,\n 200682,\n 200684,\n 200686,\n 200689,\n 200691,\n 200699,\n 200701,\n 200702,\n 200705,\n 200707,\n 200708,\n 200710,\n 200713,\n 200715,\n 200719,\n 200722,\n 200725,\n 200726,\n 200728,\n 200731,\n 200736,\n 200741,\n 200743,\n 200744,\n 200745,\n 200747,\n 200748,\n 200749,\n 200753,\n 200759,\n 200760,\n 200762,\n 200763,\n 200768,\n 200770,\n 200771,\n 200774,\n 200775,\n 200777,\n 200778,\n 200779,\n 200780,\n 200781,\n 200784,\n 200786,\n 200788,\n 200790,\n 200791,\n 200793,\n 200794,\n 200795,\n 200800,\n 200802,\n 200803,\n 200811,\n 200813,\n 200816,\n 200819,\n 200820,\n 200821,\n 200822,\n 200823,\n 200824,\n 200826,\n 200829,\n 200831,\n 200833,\n 200834,\n 200836,\n 200837,\n 200843,\n 200850,\n 200851,\n 200855,\n 200856,\n 200859,\n 200860,\n 200861,\n 200863,\n 200864,\n 200868,\n 200870,\n 200874,\n 200876,\n 200878,\n 200880,\n 200884,\n 200887,\n 200896,\n 200897,\n 200903,\n 200904,\n 200905,\n 200909,\n 200911,\n 200913,\n 200916,\n 200917,\n 200919,\n 200927,\n 200928,\n 200930,\n 200931,\n 200932,\n 200933,\n 200934,\n 200935,\n 200936,\n 200938,\n 200940,\n 200945,\n 200946,\n 200948,\n 200951,\n 200954,\n 200955,\n 200956,\n 200958,\n 200959,\n 200961,\n 200962,\n 200970,\n 200976,\n 200977,\n 200979,\n 200980,\n 200983,\n 200984,\n 200986,\n 200987,\n 200989,\n 200991,\n 200993,\n 200994,\n 200998,\n 200999,\n 201001,\n 201002,\n 201003,\n 201006,\n 201008,\n 201010,\n 201011,\n 201013,\n 201016,\n 201017,\n 201019,\n 201023,\n 201031,\n 201037,\n 201041,\n 201042,\n 201045,\n 201046,\n 201047,\n 201049,\n 201061,\n 201063,\n 201065,\n 201066,\n 201069,\n 201070,\n 201072,\n 201073,\n 201074,\n 201075,\n 201080,\n 201082,\n 201083,\n 201084,\n 201091,\n 201093,\n 201094,\n 201097,\n 201102,\n 201104,\n 201106,\n 201107,\n 201117,\n 201118,\n 201119,\n 201121,\n 201123,\n 201126,\n 201127,\n 201132,\n 201138,\n 201140,\n 201142,\n 201143,\n 201147,\n 201150,\n 201151,\n 201153,\n 201155,\n 201156,\n 201157,\n 201158,\n 201159,\n 201160,\n 201161,\n 201164,\n 201165,\n 201166,\n 201167,\n 201173,\n 201175,\n 201176,\n 201177,\n 201178,\n 201179,\n 201183,\n 201186,\n 201188,\n 201190,\n 201194,\n 201197,\n 201198,\n 201201,\n 201208,\n 201216,\n 201217,\n 201218,\n 201227,\n 201228,\n 201231,\n 201232,\n 201235,\n 201237,\n 201238,\n 201241,\n 201243,\n 201244,\n 201246,\n 201247,\n 201248,\n 201249,\n 201250,\n 201251,\n 201252,\n 201254,\n 201255,\n 201262,\n 201265,\n 201266,\n 201267,\n 201268,\n 201272,\n 201273,\n 201275,\n 201276,\n 201277,\n 201279,\n 201280,\n 201284,\n 201286,\n 201287,\n 201292,\n 201296,\n 201298,\n 201299,\n 201300,\n 201304,\n 201305,\n 201307,\n 201309,\n 201310,\n 201312,\n 201313,\n 201314,\n 201315,\n 201320,\n 201324,\n 201328,\n 201329,\n 201331,\n 201333,\n 201336,\n 201339,\n 201340,\n 201346,\n 201347,\n 201349,\n 201352,\n 201354,\n 201358,\n 201361,\n 201365,\n 201369,\n 201371,\n 201372,\n 201373,\n 201376,\n 201379,\n 201380,\n 201381,\n 201383,\n 201388,\n 201391,\n 201392,\n 201394,\n 201396,\n 201397,\n 201402,\n 201403,\n 201404,\n 201405,\n 201408,\n 201409,\n 201410,\n 201412,\n 201413,\n 201422,\n 201424,\n 201426,\n 201430,\n 201433,\n 201434,\n 201435,\n 201436,\n 201441,\n 201443,\n 201447,\n 201450,\n 201451,\n 201452,\n 201454,\n 201459,\n 201460,\n 201462,\n 201464,\n 201467,\n 201469,\n 201472,\n 201479,\n 201482,\n 201484,\n 201498,\n 201499,\n 201501,\n 201502,\n 201503,\n 201505,\n 201508,\n 201510,\n 201514,\n 201519,\n 201521,\n 201522,\n 201526,\n 201532,\n 201534,\n 201535,\n 201537,\n 201538,\n 201539,\n 201545,\n 201548,\n 201549,\n 201552,\n 201553,\n 201554,\n 201556,\n 201557,\n 201562,\n 201564,\n 201566,\n 201567,\n 201568,\n 201570,\n 201572,\n 201575,\n 201581,\n 201582,\n 201583,\n 201585,\n 201590,\n 201591,\n 201593,\n 201595,\n 201599,\n 201605,\n 201608,\n 201611,\n 201613,\n 201614,\n 201615,\n 201617,\n 201620,\n 201621,\n 201622,\n 201623,\n 201625,\n 201628,\n 201629,\n 201633,\n 201636,\n 201641,\n 201649,\n 201650,\n 201652,\n 201659,\n 201660,\n 201661,\n 201664,\n 201668,\n 201669,\n 201671,\n 201676,\n 201681,\n 201683,\n 201685,\n 201688,\n 201690,\n 201692,\n 201695,\n 201698,\n 201701,\n 201702,\n 201703,\n 201709,\n 201712,\n 201715,\n 201716,\n 201720,\n 201723,\n 201727,\n 201733,\n 201734,\n 201735,\n 201736,\n 201739,\n 201742,\n 201746,\n 201749,\n 201750,\n 201751,\n 201752,\n 201756,\n 201758,\n 201763,\n 201764,\n 201766,\n 201768,\n 201771,\n 201772,\n 201775,\n 201777,\n 201779,\n 201781,\n 201782,\n 201786,\n 201787,\n 201790,\n 201792,\n 201796,\n 201797,\n 201798,\n 201802,\n 201803,\n 201807,\n 201809,\n 201813,\n 201817,\n 201818,\n 201819,\n 201822,\n 201823,\n 201825,\n 201829,\n 201830,\n 201834,\n 201835,\n 201836,\n 201839,\n 201842,\n 201845,\n 201846,\n 201847,\n 201849,\n 201851,\n 201852,\n 201855,\n 201861,\n 201862,\n 201866,\n 201867,\n 201868,\n 201870,\n 201872,\n 201873,\n 201874,\n 201875,\n 201876,\n 201888,\n 201889,\n 201892,\n 201894,\n 201895,\n 201896,\n 201897,\n 201900,\n 201902,\n 201903,\n 201904,\n 201905,\n 201906,\n 201907,\n 201908,\n 201913,\n 201916,\n 201919,\n 201922,\n 201928,\n 201929,\n 201930,\n 201932,\n 201933,\n 201935,\n 201936,\n 201943,\n 201947,\n 201949,\n 201950,\n 201953,\n 201954,\n 201955,\n 201957,\n 201958,\n 201959,\n 201961,\n 201962,\n 201963,\n 201965,\n 201973,\n 201976,\n 201980,\n 201982,\n 201983,\n 201985,\n 201988,\n 201992,\n 201995,\n 202001,\n 202009,\n 202015,\n 202017,\n 202019,\n 202024,\n 202026,\n 202027,\n 202028,\n 202034,\n 202037,\n 202038,\n 202039,\n 202043,\n 202044,\n 202046,\n 202047,\n 202050,\n 202051,\n 202056,\n 202058,\n 202063,\n 202064,\n 202066,\n 202072,\n 202075,\n 202076,\n 202079,\n 202082,\n 202084,\n 202085,\n 202087,\n 202095,\n 202096,\n 202097,\n 202100,\n 202101,\n 202103,\n 202104,\n 202105,\n 202108,\n 202110,\n 202111,\n 202112,\n 202114,\n 202118,\n 202119,\n 202120,\n 202121,\n 202122,\n 202123,\n 202130,\n 202132,\n 202134,\n 202136,\n 202137,\n 202139,\n 202140,\n 202142,\n 202144,\n 202146,\n 202147,\n 202149,\n 202156,\n 202158,\n 202162,\n 202164,\n 202169,\n 202171,\n 202172,\n 202175,\n 202179,\n 202180,\n 202184,\n 202185,\n 202186,\n 202187,\n 202188,\n 202192,\n 202200,\n 202207,\n 202208,\n 202212,\n 202213,\n 202216,\n 202217,\n 202220,\n 202221,\n 202223,\n 202228,\n 202230,\n ...]"
     },
     "execution_count": 9,
     "metadata": {},
     "output_type": "execute_result"
    }
   ],
   "source": [
    "# Get unique User IDs from test set\n",
    "testing_user_ids = list(set(test_data['UserID']))\n",
    "testing_user_ids"
   ],
   "metadata": {
    "collapsed": false,
    "ExecuteTime": {
     "end_time": "2023-12-18T02:52:16.282053600Z",
     "start_time": "2023-12-18T02:52:14.273340900Z"
    }
   },
   "id": "ff37cd3cbf90caef"
  },
  {
   "cell_type": "markdown",
   "source": [
    "<font size=\"6\">Part 2 - Track Scoring</font>\n",
    "<font size=\"4\">This code segment is responsible for scoring tracks based on their known ratings. If they are unrated, it will attempt to score them based on their known album and artist ratings. The name of the game here is optimization, as due to the sheer size of the dataset every added comparison results in millions more checks to run before the program completes.</font>"
   ],
   "metadata": {
    "collapsed": false
   },
   "id": "a987bc93f15e46f2"
  },
  {
   "cell_type": "code",
   "execution_count": 10,
   "outputs": [
    {
     "ename": "KeyboardInterrupt",
     "evalue": "",
     "output_type": "error",
     "traceback": [
      "\u001B[1;31m---------------------------------------------------------------------------\u001B[0m",
      "\u001B[1;31mKeyboardInterrupt\u001B[0m                         Traceback (most recent call last)",
      "Cell \u001B[1;32mIn[10], line 51\u001B[0m\n\u001B[0;32m     49\u001B[0m \u001B[38;5;66;03m# Check if the user has rated the album\u001B[39;00m\n\u001B[0;32m     50\u001B[0m \u001B[38;5;28;01mif\u001B[39;00m album_id \u001B[38;5;241m!=\u001B[39m \u001B[38;5;124m\"\u001B[39m\u001B[38;5;124mNaN\u001B[39m\u001B[38;5;124m\"\u001B[39m:\n\u001B[1;32m---> 51\u001B[0m     album_rating \u001B[38;5;241m=\u001B[39m \u001B[43muser_ratings\u001B[49m\u001B[38;5;241;43m.\u001B[39;49m\u001B[43mfilter\u001B[49m\u001B[43m(\u001B[49m\u001B[43m(\u001B[49m\u001B[43mpl\u001B[49m\u001B[38;5;241;43m.\u001B[39;49m\u001B[43mcol\u001B[49m\u001B[43m(\u001B[49m\u001B[38;5;124;43m'\u001B[39;49m\u001B[38;5;124;43mItemType\u001B[39;49m\u001B[38;5;124;43m'\u001B[39;49m\u001B[43m)\u001B[49m\u001B[43m \u001B[49m\u001B[38;5;241;43m==\u001B[39;49m\u001B[43m \u001B[49m\u001B[38;5;124;43m'\u001B[39;49m\u001B[38;5;124;43mAlbum\u001B[39;49m\u001B[38;5;124;43m'\u001B[39;49m\u001B[43m)\u001B[49m\u001B[43m \u001B[49m\u001B[38;5;241;43m&\u001B[39;49m\u001B[43m \u001B[49m\u001B[43m(\u001B[49m\u001B[43mpl\u001B[49m\u001B[38;5;241;43m.\u001B[39;49m\u001B[43mcol\u001B[49m\u001B[43m(\u001B[49m\u001B[38;5;124;43m'\u001B[39;49m\u001B[38;5;124;43mItemID\u001B[39;49m\u001B[38;5;124;43m'\u001B[39;49m\u001B[43m)\u001B[49m\u001B[43m \u001B[49m\u001B[38;5;241;43m==\u001B[39;49m\u001B[43m \u001B[49m\u001B[43malbum_id\u001B[49m\u001B[43m)\u001B[49m\u001B[43m)\u001B[49m\n\u001B[0;32m     52\u001B[0m     \u001B[38;5;28;01mif\u001B[39;00m \u001B[38;5;28mlen\u001B[39m(album_rating) \u001B[38;5;241m>\u001B[39m \u001B[38;5;241m0\u001B[39m:\n\u001B[0;32m     53\u001B[0m         \u001B[38;5;66;03m# Artist and album scores each count for half the weight of a full rating\u001B[39;00m\n\u001B[0;32m     54\u001B[0m         \u001B[38;5;66;03m# This is because we aren't CERTAIN the user will like or dislike the song\u001B[39;00m\n\u001B[0;32m     55\u001B[0m         \u001B[38;5;66;03m# from these factors alone, so they should be considered less heavily than\u001B[39;00m\n\u001B[0;32m     56\u001B[0m         \u001B[38;5;66;03m# if the user has actually given the track a rating directly.\u001B[39;00m\n\u001B[0;32m     57\u001B[0m         score \u001B[38;5;241m+\u001B[39m\u001B[38;5;241m=\u001B[39m album_rating[\u001B[38;5;124m'\u001B[39m\u001B[38;5;124mRating\u001B[39m\u001B[38;5;124m'\u001B[39m]\u001B[38;5;241m.\u001B[39mto_list()[\u001B[38;5;241m0\u001B[39m] \u001B[38;5;241m*\u001B[39m \u001B[38;5;241m0.5\u001B[39m\n",
      "File \u001B[1;32m~\\AppData\\Roaming\\Python\\Python39\\site-packages\\polars\\internals\\dataframe\\frame.py:3243\u001B[0m, in \u001B[0;36mDataFrame.filter\u001B[1;34m(self, predicate)\u001B[0m\n\u001B[0;32m   3239\u001B[0m \u001B[38;5;28;01mif\u001B[39;00m _check_for_numpy(predicate) \u001B[38;5;129;01mand\u001B[39;00m \u001B[38;5;28misinstance\u001B[39m(predicate, np\u001B[38;5;241m.\u001B[39mndarray):\n\u001B[0;32m   3240\u001B[0m     predicate \u001B[38;5;241m=\u001B[39m pli\u001B[38;5;241m.\u001B[39mSeries(predicate)\n\u001B[0;32m   3242\u001B[0m \u001B[38;5;28;01mreturn\u001B[39;00m \u001B[38;5;28mself\u001B[39m\u001B[38;5;241m.\u001B[39m_from_pydf(\n\u001B[1;32m-> 3243\u001B[0m     \u001B[38;5;28;43mself\u001B[39;49m\u001B[38;5;241;43m.\u001B[39;49m\u001B[43mlazy\u001B[49m\u001B[43m(\u001B[49m\u001B[43m)\u001B[49m\n\u001B[0;32m   3244\u001B[0m \u001B[43m    \u001B[49m\u001B[38;5;241;43m.\u001B[39;49m\u001B[43mfilter\u001B[49m\u001B[43m(\u001B[49m\u001B[43mpredicate\u001B[49m\u001B[43m)\u001B[49m\u001B[43m  \u001B[49m\u001B[38;5;66;43;03m# type: ignore[arg-type]\u001B[39;49;00m\n\u001B[0;32m   3245\u001B[0m \u001B[43m    \u001B[49m\u001B[38;5;241;43m.\u001B[39;49m\u001B[43mcollect\u001B[49m\u001B[43m(\u001B[49m\u001B[43mno_optimization\u001B[49m\u001B[38;5;241;43m=\u001B[39;49m\u001B[38;5;28;43;01mTrue\u001B[39;49;00m\u001B[43m)\u001B[49m\n\u001B[0;32m   3246\u001B[0m     \u001B[38;5;241m.\u001B[39m_df\n\u001B[0;32m   3247\u001B[0m )\n",
      "File \u001B[1;32m~\\AppData\\Roaming\\Python\\Python39\\site-packages\\polars\\internals\\lazyframe\\frame.py:1430\u001B[0m, in \u001B[0;36mLazyFrame.collect\u001B[1;34m(self, type_coercion, predicate_pushdown, projection_pushdown, simplify_expression, no_optimization, slice_pushdown, common_subplan_elimination, streaming)\u001B[0m\n\u001B[0;32m   1419\u001B[0m     common_subplan_elimination \u001B[38;5;241m=\u001B[39m \u001B[38;5;28;01mFalse\u001B[39;00m\n\u001B[0;32m   1421\u001B[0m ldf \u001B[38;5;241m=\u001B[39m \u001B[38;5;28mself\u001B[39m\u001B[38;5;241m.\u001B[39m_ldf\u001B[38;5;241m.\u001B[39moptimization_toggle(\n\u001B[0;32m   1422\u001B[0m     type_coercion,\n\u001B[0;32m   1423\u001B[0m     predicate_pushdown,\n\u001B[1;32m   (...)\u001B[0m\n\u001B[0;32m   1428\u001B[0m     streaming,\n\u001B[0;32m   1429\u001B[0m )\n\u001B[1;32m-> 1430\u001B[0m \u001B[38;5;28;01mreturn\u001B[39;00m pli\u001B[38;5;241m.\u001B[39mwrap_df(\u001B[43mldf\u001B[49m\u001B[38;5;241;43m.\u001B[39;49m\u001B[43mcollect\u001B[49m\u001B[43m(\u001B[49m\u001B[43m)\u001B[49m)\n",
      "\u001B[1;31mKeyboardInterrupt\u001B[0m: "
     ]
    }
   ],
   "source": [
    "# Initialize final output dictionary\n",
    "recommendations = {}\n",
    "\n",
    "# Run for each unique user\n",
    "for user_id in testing_user_ids:\n",
    "    # Individual track scores for this user\n",
    "    user_scores = {}\n",
    "\n",
    "    # Track IDs to rate\n",
    "    user_testing_tracks = test_data.filter(pl.col('UserID') == user_id)\n",
    "    \n",
    "    # Number of tracks to recommend\n",
    "    num_user_recommendations = math.ceil(len(user_testing_tracks) / 2)\n",
    "    \n",
    "    # Known user reviews for the current user\n",
    "    user_ratings = training_data.filter(pl.col('UserID') == user_id)\n",
    "    \n",
    "    # For loops are highly unoptimized on DataFrames - converting to a native dict is faster here\n",
    "    for track in user_testing_tracks.to_dicts():\n",
    "        track_id = track['TrackID']\n",
    "        \n",
    "        # If the user has already rated the track, no scoring calculation is needed to approximate\n",
    "        # their rating - we'll just use the rating they gave. I don't believe our current test set\n",
    "        # actually includes this scenario, but it's good to handle for future-proofing and real-world use.\n",
    "        user_track_rating = user_ratings.filter((pl.col('ItemType') == 'Track') & (pl.col('ItemID') == track_id))\n",
    "        if len(user_track_rating) > 0:\n",
    "            user_scores[track_id] = user_track_rating['Rating'].to_list()[0]\n",
    "\n",
    "        # Handle tracks that the user hasn't rated - this is the main part of the program.\n",
    "        else:\n",
    "            # Look up the artist and album for the track\n",
    "            track_info = track_data.filter(pl.col('TrackID') == track_id).to_dicts()[0]\n",
    "            album_id = track_info['AlbumID']\n",
    "            artist_id = track_info['ArtistID']\n",
    "\n",
    "            # Initialize score to 0\n",
    "            score = 0\n",
    "\n",
    "            # Check if the user has rated the artist\n",
    "            if artist_id != \"NaN\":\n",
    "                artist_rating = user_ratings.filter((pl.col('ItemType') == 'Artist') & (pl.col('ItemID') == artist_id))\n",
    "                if len(artist_rating) > 0:\n",
    "                    # Artist and album scores each count for half the weight of a full rating\n",
    "                    # This is because we aren't CERTAIN the user will like or dislike the song\n",
    "                    # from these factors alone, so they should be considered less heavily than\n",
    "                    # if the user has actually given the track a rating directly.\n",
    "                    score += artist_rating['Rating'].to_list()[0] * 0.5\n",
    "\n",
    "            # Check if the user has rated the album\n",
    "            if album_id != \"NaN\":\n",
    "                album_rating = user_ratings.filter((pl.col('ItemType') == 'Album') & (pl.col('ItemID') == album_id))\n",
    "                if len(album_rating) > 0:\n",
    "                    # Artist and album scores each count for half the weight of a full rating\n",
    "                    # This is because we aren't CERTAIN the user will like or dislike the song\n",
    "                    # from these factors alone, so they should be considered less heavily than\n",
    "                    # if the user has actually given the track a rating directly.\n",
    "                    score += album_rating['Rating'].to_list()[0] * 0.5\n",
    "\n",
    "            # Use our computed score to rate the song (our prediction)\n",
    "            user_scores[track_id] = score\n",
    "\n",
    "    # Sort the user_scores by their final ratings\n",
    "    sorted_user_scores = {k: v for k, v in sorted(user_scores.items(), key=lambda item: item[1], reverse=True)}\n",
    "\n",
    "    # Add the top num_user_recommendations to recommendations\n",
    "    for i, (track_id, score) in enumerate(sorted_user_scores.items()):\n",
    "        recommendations[f'{user_id}_{track_id}'] = 1 if i < num_user_recommendations else 0\n",
    "\n",
    "# Convert recommendations to a DataFrame for writing\n",
    "recommendations_df = pl.DataFrame({\n",
    "    \"TrackID\": list(recommendations.keys()),\n",
    "    \"Predictor\": list(recommendations.values())\n",
    "})\n",
    "\n",
    "# Write the DataFrame to a CSV file - program completed\n",
    "recommendations_df.write_csv(\"predictions.csv\")"
   ],
   "metadata": {
    "collapsed": false,
    "ExecuteTime": {
     "end_time": "2023-12-18T02:52:25.744752900Z",
     "start_time": "2023-12-18T02:52:16.285628300Z"
    }
   },
   "id": "2d51f76705d6b3be"
  }
 ],
 "metadata": {
  "kernelspec": {
   "display_name": "Python 3",
   "language": "python",
   "name": "python3"
  },
  "language_info": {
   "codemirror_mode": {
    "name": "ipython",
    "version": 2
   },
   "file_extension": ".py",
   "mimetype": "text/x-python",
   "name": "python",
   "nbconvert_exporter": "python",
   "pygments_lexer": "ipython2",
   "version": "2.7.6"
  }
 },
 "nbformat": 4,
 "nbformat_minor": 5
}
